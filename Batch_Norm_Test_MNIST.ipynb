{
 "cells": [
  {
   "cell_type": "code",
   "execution_count": 1,
   "metadata": {},
   "outputs": [],
   "source": [
    "# CB: This notebook attempts to replicate previous results concerning batch normalization before and after relu layers.\n",
    "# CB: I have simplified and modified some of the steps and code that were present in the Udacity notebook."
   ]
  },
  {
   "cell_type": "code",
   "execution_count": 2,
   "metadata": {},
   "outputs": [],
   "source": [
    "import torch\n",
    "from torchvision import datasets\n",
    "import matplotlib.pyplot as plt\n",
    "import torchvision.transforms as transforms\n",
    "import torch.nn as nn\n",
    "import torch.nn.functional as F\n",
    "import numpy as np"
   ]
  },
  {
   "cell_type": "code",
   "execution_count": 3,
   "metadata": {},
   "outputs": [],
   "source": [
    "# CB: Load the dataset.  Make sure to be in proper directory.\n",
    "\n",
    "tform = transforms.ToTensor()\n",
    "\n",
    "mnist_train_data = datasets.MNIST(root='data', train=True, transform = tform)\n",
    "mnist_test_data = datasets.MNIST(root='data', train=False, transform = tform)"
   ]
  },
  {
   "cell_type": "code",
   "execution_count": 4,
   "metadata": {},
   "outputs": [
    {
     "data": {
      "text/plain": [
       "torch.Size([28, 28])"
      ]
     },
     "execution_count": 4,
     "metadata": {},
     "output_type": "execute_result"
    }
   ],
   "source": [
    "# CB: Look at the format of an example of the data.  We want to visualize a two dimensional image.\n",
    "# CB: First index mnist_train_data[0] still has a label (e.g. digit).\n",
    "# CB: Second index mnist_train_data[0][0].shape has no label, but returns a (1, 28, 28) in shape.\n",
    "mnist_train_data[0][0][0].shape"
   ]
  },
  {
   "cell_type": "code",
   "execution_count": 5,
   "metadata": {},
   "outputs": [
    {
     "data": {
      "text/plain": [
       "<matplotlib.image.AxesImage at 0x124c6d250>"
      ]
     },
     "execution_count": 5,
     "metadata": {},
     "output_type": "execute_result"
    },
    {
     "data": {
      "image/png": "[encoded data removed]",
      "text/plain": [
       "<Figure size 432x288 with 1 Axes>"
      ]
     },
     "metadata": {
      "needs_background": "light"
     },
     "output_type": "display_data"
    }
   ],
   "source": [
    "# CB: Multi-level indexing required to visualize data.\n",
    "plt.imshow(mnist_train_data[0][0][0])"
   ]
  },
  {
   "cell_type": "code",
   "execution_count": 6,
   "metadata": {},
   "outputs": [
    {
     "data": {
      "text/plain": [
       "<matplotlib.image.AxesImage at 0x124e73ed0>"
      ]
     },
     "execution_count": 6,
     "metadata": {},
     "output_type": "execute_result"
    },
    {
     "data": {
      "image/png": "[encoded data removed]",
      "text/plain": [
       "<Figure size 432x288 with 1 Axes>"
      ]
     },
     "metadata": {
      "needs_background": "light"
     },
     "output_type": "display_data"
    }
   ],
   "source": [
    "# Test data is the same format.\n",
    "plt.imshow(mnist_test_data[0][0][0])"
   ]
  },
  {
   "cell_type": "code",
   "execution_count": 7,
   "metadata": {},
   "outputs": [],
   "source": [
    "# CB: Define Network, modifying previous Udacity example code.\n",
    "# CB: Notice the logic junctions in layer initialization.\n",
    "# CB: For now, Batch Norm booleans are same for each layer.  This could be modified if curious.\n",
    "class NeuralNetBNTest(nn.Module):\n",
    "    def __init__(self, batch_norm_before=False, batch_norm_after=False, input_size=784, hidden_dim=128, output_size=10):\n",
    "        \"\"\"\n",
    "        Init method.\n",
    "        \n",
    "        Creates a PyTorch net for testing Batch Normalization before and after activations.  \n",
    "        \n",
    "        Before and after Batch Normalizations are boolean parameters, currently the same for each layer.\n",
    "        \n",
    "        Initialized for MNIST data.\n",
    "        \n",
    "        :param batch_norm_before: bool\n",
    "            Pass True to create a network that uses batch normalization before activation; False otherwise\n",
    "            Note: this network will not use batch normalization on layers that do not have an\n",
    "            activation function.\n",
    "        \n",
    "        :param batch_norm_after: bool\n",
    "            Pass True to create a network that uses batch normalization after activation; False otherwise\n",
    "            Note: this network will not use batch normalization on layers that do not have an\n",
    "            activation function.\n",
    "        \"\"\"\n",
    "        super(NeuralNetBNTest, self).__init__() # init super\n",
    "        \n",
    "        # CB: Initialize to given parameters (defaults to MNIST).\n",
    "        # CB: input_size defaults to images of size (28,28) = 28*28 = 784 unrolled layer size.\n",
    "        self.input_size = input_size \n",
    "        self.hidden_dim = hidden_dim\n",
    "        \n",
    "        # CB: output_size defaults to 10 MNIST classes.\n",
    "        self.output_size = output_size \n",
    "        \n",
    "        # CB: Both BN options default to False.\n",
    "        self.batch_norm_before = batch_norm_before\n",
    "        self.batch_norm_after = batch_norm_after\n",
    "        \n",
    "        # CB: First logic junction where first batch norm layer created.\n",
    "        # CB: Hidden layer created with bias=False.\n",
    "        # CB: Otherwise, create regular hidden layer with bias.\n",
    "        if batch_norm_before or batch_norm_after:\n",
    "            self.fc1 = nn.Linear(input_size, hidden_dim*2, bias=False)\n",
    "            self.batch_norm1 = nn.BatchNorm1d(hidden_dim*2)\n",
    "        else:\n",
    "            self.fc1 = nn.Linear(input_size, hidden_dim*2)\n",
    "            \n",
    "        # CB: Same logic for second layer.\n",
    "        if batch_norm_before or batch_norm_after:\n",
    "            self.fc2 = nn.Linear(hidden_dim*2, hidden_dim, bias=False)\n",
    "            self.batch_norm2 = nn.BatchNorm1d(hidden_dim)\n",
    "        else:\n",
    "            self.fc2 = nn.Linear(hidden_dim*2, hidden_dim)\n",
    "        \n",
    "        # CB: Final classification layer.\n",
    "        self.fc3 = nn.Linear(hidden_dim, output_size)\n",
    "        \n",
    "    \n",
    "    \n",
    "    def forward(self, x):\n",
    "        \"\"\"\n",
    "        Forward method.  \n",
    "        \n",
    "        Batch Norm boolean logic is the same for each layer.  \n",
    "        \n",
    "        Could be modified in the future.\n",
    "        \"\"\"\n",
    "        # CB: Unroll or flatten image.\n",
    "        x = x.view(-1, 28*28)\n",
    "        \n",
    "        # CB: Follow the path determined by batch norm boolean logic.\n",
    "        # CB: Batch Norm can occur before activation, after, or both.\n",
    "        x = self.fc1(x)\n",
    "        if self.batch_norm_before:\n",
    "            x = self.batch_norm1(x)\n",
    "        x = F.relu(x)\n",
    "        if self.batch_norm_after:\n",
    "            x = self.batch_norm1(x)\n",
    "            \n",
    "        # CB: Same for the second layer.\n",
    "        x = self.fc2(x)\n",
    "        if self.batch_norm_before:\n",
    "            x = self.batch_norm2(x)\n",
    "        x = F.relu(x)\n",
    "        if self.batch_norm_after:\n",
    "            x = self.batch_norm2(x)\n",
    "            \n",
    "        # CB: Final layer.\n",
    "        x = self.fc3(x)\n",
    "        \n",
    "        return x"
   ]
  },
  {
   "cell_type": "code",
   "execution_count": 8,
   "metadata": {},
   "outputs": [
    {
     "name": "stdout",
     "output_type": "stream",
     "text": [
      "NeuralNetBNTest(\n",
      "  (fc1): Linear(in_features=784, out_features=256, bias=False)\n",
      "  (batch_norm1): BatchNorm1d(256, eps=1e-05, momentum=0.1, affine=True, track_running_stats=True)\n",
      "  (fc2): Linear(in_features=256, out_features=128, bias=False)\n",
      "  (batch_norm2): BatchNorm1d(128, eps=1e-05, momentum=0.1, affine=True, track_running_stats=True)\n",
      "  (fc3): Linear(in_features=128, out_features=10, bias=True)\n",
      ")\n",
      "\n",
      "NeuralNetBNTest(\n",
      "  (fc1): Linear(in_features=784, out_features=256, bias=False)\n",
      "  (batch_norm1): BatchNorm1d(256, eps=1e-05, momentum=0.1, affine=True, track_running_stats=True)\n",
      "  (fc2): Linear(in_features=256, out_features=128, bias=False)\n",
      "  (batch_norm2): BatchNorm1d(128, eps=1e-05, momentum=0.1, affine=True, track_running_stats=True)\n",
      "  (fc3): Linear(in_features=128, out_features=10, bias=True)\n",
      ")\n",
      "\n",
      "NeuralNetBNTest(\n",
      "  (fc1): Linear(in_features=784, out_features=256, bias=False)\n",
      "  (batch_norm1): BatchNorm1d(256, eps=1e-05, momentum=0.1, affine=True, track_running_stats=True)\n",
      "  (fc2): Linear(in_features=256, out_features=128, bias=False)\n",
      "  (batch_norm2): BatchNorm1d(128, eps=1e-05, momentum=0.1, affine=True, track_running_stats=True)\n",
      "  (fc3): Linear(in_features=128, out_features=10, bias=True)\n",
      ")\n",
      "\n",
      "NeuralNetBNTest(\n",
      "  (fc1): Linear(in_features=784, out_features=256, bias=True)\n",
      "  (fc2): Linear(in_features=256, out_features=128, bias=True)\n",
      "  (fc3): Linear(in_features=128, out_features=10, bias=True)\n",
      ")\n"
     ]
    }
   ],
   "source": [
    "# CB: Define all combinations of Batch Norm booleans.\n",
    "\n",
    "batchnorm_before_net = NeuralNetBNTest(batch_norm_before=True, batch_norm_after=False)\n",
    "batchnorm_after_net = NeuralNetBNTest(batch_norm_before=False, batch_norm_after=True)\n",
    "batchnorm_both_net = NeuralNetBNTest(batch_norm_before=True, batch_norm_after=True)\n",
    "batchnorm_none_net = NeuralNetBNTest(batch_norm_before=False, batch_norm_after=False)\n",
    "\n",
    "# CB: Show to confirm.\n",
    "print(batchnorm_before_net)\n",
    "print()\n",
    "print(batchnorm_after_net)\n",
    "print()\n",
    "print(batchnorm_both_net)\n",
    "print()\n",
    "print(batchnorm_none_net)"
   ]
  },
  {
   "cell_type": "code",
   "execution_count": 9,
   "metadata": {},
   "outputs": [],
   "source": [
    "# CB: Create loaders.\n",
    "\n",
    "workers = 0\n",
    "batch = 64\n",
    "\n",
    "train_loader = torch.utils.data.DataLoader(mnist_train_data, batch_size=batch,\n",
    "                                           num_workers=workers)\n",
    "\n",
    "test_loader = torch.utils.data.DataLoader(mnist_test_data, batch_size=batch,\n",
    "                                          num_workers=workers)"
   ]
  },
  {
   "cell_type": "code",
   "execution_count": 10,
   "metadata": {},
   "outputs": [],
   "source": [
    "# CB: Train function.\n",
    "\n",
    "def train(model, n_epochs=5):\n",
    "    \n",
    "    \"\"\"\n",
    "    Train function.\n",
    "    \n",
    "    :param n_epochs: int\n",
    "    Number of epochs to train.\n",
    "    \"\"\"\n",
    "\n",
    "    # CB: List to keep track of losses.\n",
    "    losses = []\n",
    "        \n",
    "    # CB: Cross entropy loss function.\n",
    "    loss_function = nn.CrossEntropyLoss()\n",
    "\n",
    "    # CB: Stochastic Gradient Descent optimizer with learning rate 0.01.\n",
    "    optimizer = torch.optim.SGD(model.parameters(), lr=0.01)\n",
    "\n",
    "    # CB: Call network object's inherited train method.\n",
    "    model.train()\n",
    "    \n",
    "    for epoch in range(1, n_epochs+1):\n",
    "        \n",
    "        train_loss = 0.0\n",
    "        \n",
    "        # CB: Train the model.\n",
    "        batch_count = 0\n",
    "        for batch_idx, (data, target) in enumerate(train_loader):\n",
    "            \n",
    "            # CB: Clear gradients.\n",
    "            optimizer.zero_grad()\n",
    "            \n",
    "            # CB: Pass data through model.\n",
    "            output = model(data)\n",
    "            \n",
    "            # CB: Compute loss.\n",
    "            loss = loss_function(output, target)\n",
    "            \n",
    "            # CB: Compute gradient.\n",
    "            loss.backward()\n",
    "\n",
    "            # CB: Update params by stepping in direction of negative gradient.\n",
    "            optimizer.step()\n",
    "            \n",
    "            train_loss += loss.item() \n",
    "            batch_count +=1                \n",
    "\n",
    "        # CB: Append to list of training losses.\n",
    "        losses.append(train_loss/batch_count)\n",
    "        \n",
    "        print('Epoch: {} \\tTraining Loss: {:.6f}'.format(\n",
    "            epoch, \n",
    "            train_loss/batch_count))\n",
    "    \n",
    "    # CB: Return list of losses for plotting.\n",
    "    return losses"
   ]
  },
  {
   "cell_type": "code",
   "execution_count": 11,
   "metadata": {},
   "outputs": [
    {
     "name": "stdout",
     "output_type": "stream",
     "text": [
      "Epoch: 1 \tTraining Loss: 1.648761\n",
      "Epoch: 2 \tTraining Loss: 0.528420\n",
      "Epoch: 3 \tTraining Loss: 0.388793\n",
      "Epoch: 4 \tTraining Loss: 0.340481\n",
      "Epoch: 5 \tTraining Loss: 0.310928\n",
      "CPU times: user 2min 32s, sys: 4.69 s, total: 2min 37s\n",
      "Wall time: 1min 11s\n"
     ]
    }
   ],
   "source": [
    "%%time\n",
    "\n",
    "losses_no_BN = train(batchnorm_none_net)"
   ]
  },
  {
   "cell_type": "code",
   "execution_count": 12,
   "metadata": {},
   "outputs": [
    {
     "name": "stdout",
     "output_type": "stream",
     "text": [
      "Epoch: 1 \tTraining Loss: 0.449058\n",
      "Epoch: 2 \tTraining Loss: 0.183904\n",
      "Epoch: 3 \tTraining Loss: 0.128750\n",
      "Epoch: 4 \tTraining Loss: 0.097379\n",
      "Epoch: 5 \tTraining Loss: 0.076562\n",
      "CPU times: user 4min 7s, sys: 5.73 s, total: 4min 13s\n",
      "Wall time: 1min 39s\n"
     ]
    }
   ],
   "source": [
    "%%time\n",
    "\n",
    "losses_BN_before = train(batchnorm_before_net)"
   ]
  },
  {
   "cell_type": "code",
   "execution_count": 13,
   "metadata": {},
   "outputs": [
    {
     "name": "stdout",
     "output_type": "stream",
     "text": [
      "Epoch: 1 \tTraining Loss: 0.328245\n",
      "Epoch: 2 \tTraining Loss: 0.136339\n",
      "Epoch: 3 \tTraining Loss: 0.091483\n",
      "Epoch: 4 \tTraining Loss: 0.066847\n",
      "Epoch: 5 \tTraining Loss: 0.049992\n",
      "CPU times: user 4min 6s, sys: 4.14 s, total: 4min 10s\n",
      "Wall time: 1min 31s\n"
     ]
    }
   ],
   "source": [
    "%%time\n",
    "\n",
    "losses_BN_after = train(batchnorm_after_net)"
   ]
  },
  {
   "cell_type": "code",
   "execution_count": 14,
   "metadata": {},
   "outputs": [
    {
     "name": "stdout",
     "output_type": "stream",
     "text": [
      "Epoch: 1 \tTraining Loss: 0.334962\n",
      "Epoch: 2 \tTraining Loss: 0.142131\n",
      "Epoch: 3 \tTraining Loss: 0.097509\n",
      "Epoch: 4 \tTraining Loss: 0.071404\n",
      "Epoch: 5 \tTraining Loss: 0.053606\n",
      "CPU times: user 5min 22s, sys: 4.92 s, total: 5min 27s\n",
      "Wall time: 1min 53s\n"
     ]
    }
   ],
   "source": [
    "%%time\n",
    "\n",
    "losses_BN_both = train(batchnorm_both_net)"
   ]
  },
  {
   "cell_type": "code",
   "execution_count": 15,
   "metadata": {},
   "outputs": [
    {
     "data": {
      "text/plain": [
       "<matplotlib.legend.Legend at 0x124ff5350>"
      ]
     },
     "execution_count": 15,
     "metadata": {},
     "output_type": "execute_result"
    },
    {
     "data": {
      "image/png": "[encoded data removed]",
      "text/plain": [
       "<Figure size 864x576 with 1 Axes>"
      ]
     },
     "metadata": {
      "needs_background": "light"
     },
     "output_type": "display_data"
    }
   ],
   "source": [
    "# CB: Compare different model losses over epochs.\n",
    "\n",
    "fig, ax = plt.subplots(figsize=(12,8))\n",
    "\n",
    "plt.plot(losses_no_BN, label='no BN', alpha=1.0)\n",
    "plt.plot(losses_BN_before, label='BN before relu', alpha=1.0)\n",
    "plt.plot(losses_BN_after, label='BN after relu', alpha=1.0)\n",
    "plt.plot(losses_BN_both, label = 'BN both', alpha=1.0)\n",
    "plt.title(\"Training Losses\")\n",
    "plt.legend()"
   ]
  },
  {
   "cell_type": "code",
   "execution_count": 16,
   "metadata": {},
   "outputs": [],
   "source": [
    "# CB: Test function.\n",
    "\n",
    "def test(model, train=False):\n",
    "    \"\"\"\n",
    "    Function to test models.\n",
    "    \n",
    "    :param train: bool\n",
    "    Defaults to False.  Affects statistics in evaluation.\n",
    "    \n",
    "    \"\"\"\n",
    "    \n",
    "    # CB: Initialize for accuracy calculations.\n",
    "    class_correct = list(0. for i in range(10))\n",
    "    class_total = list(0. for i in range(10))\n",
    "    test_loss = 0.0\n",
    "\n",
    "    # CB: Call appropriate inherited network methods for evaluation mode.\n",
    "    if(train==True):\n",
    "        model.train()\n",
    "    if(train==False):\n",
    "        model.eval()\n",
    "    \n",
    "    loss_function = nn.CrossEntropyLoss()\n",
    "    \n",
    "    for batch_idx, (data, target) in enumerate(test_loader):\n",
    "        batch_size = data.size(0)\n",
    "\n",
    "        output = model(data)\n",
    "\n",
    "        loss = loss_function(output, target)\n",
    "\n",
    "        test_loss += loss.item()*batch_size\n",
    "\n",
    "        _, pred = torch.max(output, 1)\n",
    "\n",
    "        correct = np.squeeze(pred.eq(target.data.view_as(pred)))\n",
    "\n",
    "        for i in range(batch_size):\n",
    "            label = target.data[i]\n",
    "            class_correct[label] += correct[i].item()\n",
    "            class_total[label] += 1\n",
    "\n",
    "    print('Test Loss: {:.6f}\\n'.format(test_loss/len(test_loader.dataset)))\n",
    "\n",
    "    for i in range(10):\n",
    "        if class_total[i] > 0:\n",
    "            print('Test Accuracy of %5s: %2d%% (%2d/%2d)' % (\n",
    "                str(i), 100 * class_correct[i] / class_total[i],\n",
    "                np.sum(class_correct[i]), np.sum(class_total[i])))\n",
    "        else:\n",
    "            print('Test Accuracy of %5s: N/A (no training examples)' % (classes[i]))\n",
    "\n",
    "    print('\\nTest Accuracy (Overall): %2d%% (%2d/%2d)' % (\n",
    "        100. * np.sum(class_correct) / np.sum(class_total),\n",
    "        np.sum(class_correct), np.sum(class_total)))"
   ]
  },
  {
   "cell_type": "code",
   "execution_count": 17,
   "metadata": {},
   "outputs": [
    {
     "name": "stdout",
     "output_type": "stream",
     "text": [
      "testing no batch norm net, train = False\n",
      "Test Loss: 0.289695\n",
      "\n",
      "Test Accuracy of     0: 98% (962/980)\n",
      "Test Accuracy of     1: 97% (1110/1135)\n",
      "Test Accuracy of     2: 87% (900/1032)\n",
      "Test Accuracy of     3: 89% (900/1010)\n",
      "Test Accuracy of     4: 91% (901/982)\n",
      "Test Accuracy of     5: 87% (784/892)\n",
      "Test Accuracy of     6: 93% (899/958)\n",
      "Test Accuracy of     7: 90% (928/1028)\n",
      "Test Accuracy of     8: 87% (850/974)\n",
      "Test Accuracy of     9: 91% (920/1009)\n",
      "\n",
      "Test Accuracy (Overall): 91% (9154/10000)\n",
      "testing no batch norm net, train = True\n",
      "Test Loss: 0.289695\n",
      "\n",
      "Test Accuracy of     0: 98% (962/980)\n",
      "Test Accuracy of     1: 97% (1110/1135)\n",
      "Test Accuracy of     2: 87% (900/1032)\n",
      "Test Accuracy of     3: 89% (900/1010)\n",
      "Test Accuracy of     4: 91% (901/982)\n",
      "Test Accuracy of     5: 87% (784/892)\n",
      "Test Accuracy of     6: 93% (899/958)\n",
      "Test Accuracy of     7: 90% (928/1028)\n",
      "Test Accuracy of     8: 87% (850/974)\n",
      "Test Accuracy of     9: 91% (920/1009)\n",
      "\n",
      "Test Accuracy (Overall): 91% (9154/10000)\n"
     ]
    }
   ],
   "source": [
    "print('testing no batch norm net, train = False')\n",
    "test(batchnorm_none_net)\n",
    "print('testing no batch norm net, train = True')\n",
    "test(batchnorm_none_net, train=True)"
   ]
  },
  {
   "cell_type": "code",
   "execution_count": 18,
   "metadata": {},
   "outputs": [
    {
     "name": "stdout",
     "output_type": "stream",
     "text": [
      "testing batch norm before net, train = False\n",
      "Test Loss: 0.089578\n",
      "\n",
      "Test Accuracy of     0: 98% (968/980)\n",
      "Test Accuracy of     1: 99% (1125/1135)\n",
      "Test Accuracy of     2: 96% (1001/1032)\n",
      "Test Accuracy of     3: 98% (991/1010)\n",
      "Test Accuracy of     4: 96% (946/982)\n",
      "Test Accuracy of     5: 97% (869/892)\n",
      "Test Accuracy of     6: 95% (919/958)\n",
      "Test Accuracy of     7: 96% (991/1028)\n",
      "Test Accuracy of     8: 96% (938/974)\n",
      "Test Accuracy of     9: 97% (979/1009)\n",
      "\n",
      "Test Accuracy (Overall): 97% (9727/10000)\n",
      "testing batch norm before net, train = True\n",
      "Test Loss: 0.102587\n",
      "\n",
      "Test Accuracy of     0: 98% (965/980)\n",
      "Test Accuracy of     1: 99% (1126/1135)\n",
      "Test Accuracy of     2: 96% (1001/1032)\n",
      "Test Accuracy of     3: 97% (981/1010)\n",
      "Test Accuracy of     4: 96% (949/982)\n",
      "Test Accuracy of     5: 96% (862/892)\n",
      "Test Accuracy of     6: 96% (924/958)\n",
      "Test Accuracy of     7: 96% (995/1028)\n",
      "Test Accuracy of     8: 95% (934/974)\n",
      "Test Accuracy of     9: 94% (956/1009)\n",
      "\n",
      "Test Accuracy (Overall): 96% (9693/10000)\n"
     ]
    }
   ],
   "source": [
    "print('testing batch norm before net, train = False')\n",
    "test(batchnorm_before_net)\n",
    "print('testing batch norm before net, train = True')\n",
    "test(batchnorm_before_net, train=True)"
   ]
  },
  {
   "cell_type": "code",
   "execution_count": 19,
   "metadata": {},
   "outputs": [
    {
     "name": "stdout",
     "output_type": "stream",
     "text": [
      "testing batch norm after net, train = False\n",
      "Test Loss: 0.081670\n",
      "\n",
      "Test Accuracy of     0: 98% (966/980)\n",
      "Test Accuracy of     1: 99% (1125/1135)\n",
      "Test Accuracy of     2: 96% (1001/1032)\n",
      "Test Accuracy of     3: 97% (984/1010)\n",
      "Test Accuracy of     4: 97% (954/982)\n",
      "Test Accuracy of     5: 97% (870/892)\n",
      "Test Accuracy of     6: 96% (922/958)\n",
      "Test Accuracy of     7: 96% (988/1028)\n",
      "Test Accuracy of     8: 96% (943/974)\n",
      "Test Accuracy of     9: 97% (983/1009)\n",
      "\n",
      "Test Accuracy (Overall): 97% (9736/10000)\n",
      "testing batch norm after net, train = True\n",
      "Test Loss: 0.095222\n",
      "\n",
      "Test Accuracy of     0: 98% (969/980)\n",
      "Test Accuracy of     1: 98% (1120/1135)\n",
      "Test Accuracy of     2: 97% (1003/1032)\n",
      "Test Accuracy of     3: 96% (976/1010)\n",
      "Test Accuracy of     4: 97% (953/982)\n",
      "Test Accuracy of     5: 95% (855/892)\n",
      "Test Accuracy of     6: 96% (925/958)\n",
      "Test Accuracy of     7: 96% (992/1028)\n",
      "Test Accuracy of     8: 97% (952/974)\n",
      "Test Accuracy of     9: 95% (966/1009)\n",
      "\n",
      "Test Accuracy (Overall): 97% (9711/10000)\n"
     ]
    }
   ],
   "source": [
    "print('testing batch norm after net, train = False')\n",
    "test(batchnorm_after_net)\n",
    "print('testing batch norm after net, train = True')\n",
    "test(batchnorm_after_net, train=True)"
   ]
  },
  {
   "cell_type": "code",
   "execution_count": 20,
   "metadata": {},
   "outputs": [
    {
     "name": "stdout",
     "output_type": "stream",
     "text": [
      "testing batch norm both net, train = False\n",
      "Test Loss: 2.107645\n",
      "\n",
      "Test Accuracy of     0: 29% (291/980)\n",
      "Test Accuracy of     1:  0% ( 0/1135)\n",
      "Test Accuracy of     2:  1% (13/1032)\n",
      "Test Accuracy of     3: 50% (512/1010)\n",
      "Test Accuracy of     4: 31% (312/982)\n",
      "Test Accuracy of     5:  2% (19/892)\n",
      "Test Accuracy of     6: 13% (131/958)\n",
      "Test Accuracy of     7:  0% ( 4/1028)\n",
      "Test Accuracy of     8: 99% (972/974)\n",
      "Test Accuracy of     9: 68% (693/1009)\n",
      "\n",
      "Test Accuracy (Overall): 29% (2947/10000)\n",
      "testing batch norm both net, train = True\n",
      "Test Loss: 0.094237\n",
      "\n",
      "Test Accuracy of     0: 98% (969/980)\n",
      "Test Accuracy of     1: 99% (1125/1135)\n",
      "Test Accuracy of     2: 96% (998/1032)\n",
      "Test Accuracy of     3: 97% (988/1010)\n",
      "Test Accuracy of     4: 96% (946/982)\n",
      "Test Accuracy of     5: 96% (864/892)\n",
      "Test Accuracy of     6: 96% (925/958)\n",
      "Test Accuracy of     7: 96% (992/1028)\n",
      "Test Accuracy of     8: 97% (946/974)\n",
      "Test Accuracy of     9: 95% (968/1009)\n",
      "\n",
      "Test Accuracy (Overall): 97% (9721/10000)\n"
     ]
    }
   ],
   "source": [
    "print('testing batch norm both net, train = False')\n",
    "test(batchnorm_both_net)\n",
    "print('testing batch norm both net, train = True')\n",
    "test(batchnorm_both_net, train=True)"
   ]
  },
  {
   "cell_type": "code",
   "execution_count": null,
   "metadata": {},
   "outputs": [],
   "source": []
  }
 ],
 "metadata": {
  "kernelspec": {
   "display_name": "Python [conda env:ml]",
   "language": "python",
   "name": "conda-env-ml-py"
  },
  "language_info": {
   "codemirror_mode": {
    "name": "ipython",
    "version": 3
   },
   "file_extension": ".py",
   "mimetype": "text/x-python",
   "name": "python",
   "nbconvert_exporter": "python",
   "pygments_lexer": "ipython3",
   "version": "3.7.9"
  }
 },
 "nbformat": 4,
 "nbformat_minor": 4
}
